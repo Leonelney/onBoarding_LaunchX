{
  "cells": [
    {
      "cell_type": "markdown",
      "metadata": {},
      "source": [
        "# Ejercicio: Uso de funciones en Python"
      ]
    },
    {
      "cell_type": "markdown",
      "metadata": {},
      "source": [
        "### Ejercicio 1: Trabajar con argumentos en funciones\n",
        "\n",
        "Los argumentos requeridos en las funciones se utilizan cuando las funciones necesitan que esos argumentos funcionen correctamente. En este ejercicio, construirás un informe de combustible que requiere información de varias ubicaciones de combustible en todo el cohete.\n",
        "\n"
      ]
    },
    {
      "cell_type": "markdown",
      "metadata": {},
      "source": [
        "> **TIP**\n",
        "> Dedica unos minutos para tratar de encontrar una solución. Luego desplázate hacia abajo hasta la parte inferior para ver si has logrado compilar el programa de acuerdo con las especificaciones\n",
        "\n",
        "Comienza por crear una función que necesite tres lecturas de combustible y devuelva un informe:"
      ]
    },
    {
      "cell_type": "code",
      "execution_count": 6,
      "metadata": {},
      "outputs": [],
      "source": [
        "# Función para leer 3 tanques de combustible y muestre el promedio\n",
        "def informe(tan_1, tan_2, tan_3):\n",
        "    return f\"\"\"Informe.\n",
        "    Promedio de combustible: {(tan_1+tan_2+tan_3)/3}\n",
        "    tanque 1: {tan_1}\n",
        "    tanque 2: {tan_2}\n",
        "    tanque 3: {tan_3}\n",
        "    \"\"\""
      ]
    },
    {
      "cell_type": "markdown",
      "metadata": {},
      "source": [
        "Ahora que hemos definido la función de informes, vamos a comprobarlo. Para esta misión, los tanques no están llenos:"
      ]
    },
    {
      "cell_type": "code",
      "execution_count": 7,
      "metadata": {},
      "outputs": [
        {
          "name": "stdout",
          "output_type": "stream",
          "text": [
            "Informe.\n",
            "    Promedio de combustible: 66.0\n",
            "    tanque 1: 80\n",
            "    tanque 2: 50\n",
            "    tanque 3: 68\n",
            "    \n"
          ]
        }
      ],
      "source": [
        "\n",
        "print(informe(80,50,68))"
      ]
    },
    {
      "cell_type": "markdown",
      "metadata": {},
      "source": [
        "En lugar de simplemente crear el informe, la función también está calculando el promedio. Mejora la legibilidad extrayendo el cálculo promedio de la función en una nueva función para que el promedio se pueda hacer de forma independiente:"
      ]
    },
    {
      "cell_type": "code",
      "execution_count": 8,
      "metadata": {},
      "outputs": [],
      "source": [
        "def average(values):\n",
        "    return sum(values)/len(values)"
      ]
    },
    {
      "cell_type": "markdown",
      "metadata": {},
      "source": [
        "Ahora actualiza la función de informes para llamando a la nueva función del promedio:\n"
      ]
    },
    {
      "cell_type": "code",
      "execution_count": 9,
      "metadata": {},
      "outputs": [
        {
          "name": "stdout",
          "output_type": "stream",
          "text": [
            "Informe.\n",
            "    Promedio de combustible: 66.0\n",
            "    tanque 1: 80\n",
            "    tanque 2: 50\n",
            "    tanque 3: 68\n",
            "    \n"
          ]
        }
      ],
      "source": [
        "def informe(tan_1, tan_2, tan_3):\n",
        "    return f\"\"\"Informe.\n",
        "    Promedio de combustible: {average([tan_1,tan_2,tan_3])}\n",
        "    tanque 1: {tan_1}\n",
        "    tanque 2: {tan_2}\n",
        "    tanque 3: {tan_3}\n",
        "    \"\"\"\n",
        "\n",
        "print(informe(80,50,68))"
      ]
    },
    {
      "cell_type": "markdown",
      "metadata": {},
      "source": [
        "> Recuerda: Lo importante es intentarlo, puedes auxiliarte de internet, libros, etc. El objetivo de una kata es la comprobación de la comprensión de la lección y su aplicación inmediata a la resolución de problemas. Go for it!"
      ]
    },
    {
      "cell_type": "markdown",
      "metadata": {},
      "source": [
        "## Ejercicio 2: Trabajo con argumentos de palabra clave"
      ]
    },
    {
      "cell_type": "markdown",
      "metadata": {},
      "source": [
        "### Ejercicio : Trabajar con argumentos de palabras clave en funciones\n",
        "En este ejercicio, construirás un informe de cohete que requiere varias piezas de información, como el tiempo hasta el destino, el combustible a la izquierda y el nombre del destino. Comienza por crear una función que creará un informe preciso de la misión:"
      ]
    },
    {
      "cell_type": "code",
      "execution_count": 21,
      "metadata": {},
      "outputs": [
        {
          "name": "stdout",
          "output_type": "stream",
          "text": [
            "Mision a Moon. \n",
            "    tiempo de vuelo: 65 minutos\n",
            "    Cantidad de gasolina: 500000 galones\n",
            "    \n"
          ]
        }
      ],
      "source": [
        "# Función con un informe preciso de la misión. Considera hora de prelanzamiento, tiempo de vuelo, destino, tanque externo y tanque interno\n",
        "def informe(destiny, pre_laun_time, flight_time, ext_tank, main_tank):\n",
        "    return f\"\"\"Mision a {destiny}. \n",
        "    tiempo de vuelo: {flight_time + pre_laun_time} minutos\n",
        "    Cantidad de gasolina: {ext_tank + main_tank} galones\n",
        "    \"\"\"\n",
        "print(informe(\"Moon\", 14, 51, 200000, 300000))"
      ]
    },
    {
      "cell_type": "markdown",
      "metadata": {},
      "source": [
        "La función es problemática porque no se puede adaptar para minutos adicionales o tanques adicionales de combustible. Hazlo más flexible permitiendo cualquier número de pasos basados en el tiempo y cualquier número de tanques. En lugar de usar `*args` y `**kwargs`, aprovecha el hecho de que puedes usar cualquier nombre que desees. Asegurate que la función sea más legible mediante el uso de nombres de variables que están asociados con las entradas, como `*minutes` y `**fuel_reservoirs`:"
      ]
    },
    {
      "cell_type": "code",
      "execution_count": 20,
      "metadata": {},
      "outputs": [
        {
          "name": "stdout",
          "output_type": "stream",
          "text": [
            "Mision a Moon. \n",
            "    tiempo de vuelo: 65 minutos\n",
            "    Cantidad de gasolina: 500000 galones\n",
            "    \n"
          ]
        }
      ],
      "source": [
        "def informe(destiny, *minutes, **fuel_reservoirs):\n",
        "    return f\"\"\"Mision a {destiny}. \n",
        "    tiempo de vuelo: {sum(minutes)} minutos\n",
        "    Cantidad de gasolina: {sum(fuel_reservoirs.values())} galones\n",
        "    \"\"\"\n",
        "\n",
        "print(informe(\"Moon\", 14, 51, external_tank=200000, main_tank=300000))"
      ]
    },
    {
      "cell_type": "markdown",
      "metadata": {},
      "source": [
        "Debido a que el combustible que queda en los tanques es específico de cada tanque, actualiza la función para usar el nombre de cada tanque en el informe:"
      ]
    },
    {
      "cell_type": "code",
      "execution_count": 25,
      "metadata": {},
      "outputs": [
        {
          "name": "stdout",
          "output_type": "stream",
          "text": [
            "Mision a Moon. \n",
            "    tiempo de vuelo: 65\n",
            "    Cantidad de gasolina en external_tank = 200000\n",
            "    Cantidad de gasolina en main_tank = 300000\n",
            "    \n"
          ]
        }
      ],
      "source": [
        "def informe(destiny, *minutes, **fuel_reservoirs):\n",
        "    inf = f\"\"\"Mision a {destiny}. \n",
        "    tiempo de vuelo: {sum(minutes)}\n",
        "    \"\"\"\n",
        "    \n",
        "    for tank, value in fuel_reservoirs.items():\n",
        "        inf += f'Cantidad de gasolina en {tank} = {value}\\n    '\n",
        "\n",
        "    return inf\n",
        "\n",
        "print(informe(\"Moon\", 14, 51, external_tank=200000, main_tank=300000))"
      ]
    }
  ],
  "metadata": {
    "interpreter": {
      "hash": "205095b8b86ea82a021a8fc2ffba2b3bc9f8d0be25999901963b225939f75778"
    },
    "kernelspec": {
      "display_name": "Python 3.8.10 64-bit ('tmp': conda)",
      "name": "python3"
    },
    "language_info": {
      "codemirror_mode": {
        "name": "ipython",
        "version": 3
      },
      "file_extension": ".py",
      "mimetype": "text/x-python",
      "name": "python",
      "nbconvert_exporter": "python",
      "pygments_lexer": "ipython3",
      "version": "3.9.5"
    },
    "nteract": {
      "version": "nteract-front-end@1.0.0"
    },
    "orig_nbformat": 4
  },
  "nbformat": 4,
  "nbformat_minor": 2
}
